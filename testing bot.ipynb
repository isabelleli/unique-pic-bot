{
 "cells": [
  {
   "cell_type": "code",
   "execution_count": 1,
   "metadata": {
    "collapsed": true
   },
   "outputs": [],
   "source": [
    "import praw\n",
    "from praw.exceptions import APIException\n",
    "from selenium import webdriver\n",
    "from selenium.webdriver.chrome.options import Options\n",
    "from selenium.common.exceptions import NoSuchElementException, TimeoutException\n",
    "from selenium.webdriver.support.ui import WebDriverWait\n",
    "from selenium.webdriver.support import expected_conditions as EC\n",
    "from selenium.webdriver.common.by import By\n",
    "import os\n",
    "import requests\n",
    "import time\n",
    "from botlogger import createLogFile, logwrite"
   ]
  },
  {
   "cell_type": "code",
   "execution_count": 2,
   "metadata": {
    "collapsed": true
   },
   "outputs": [],
   "source": [
    "r = praw.Reddit(\"bot1\")"
   ]
  },
  {
   "cell_type": "code",
   "execution_count": 3,
   "metadata": {
    "collapsed": true
   },
   "outputs": [],
   "source": [
    "chrome_options = Options()\n",
    "chrome_options.add_argument('--headless')        "
   ]
  },
  {
   "cell_type": "code",
   "execution_count": 4,
   "metadata": {
    "collapsed": true
   },
   "outputs": [],
   "source": [
    "driver = webdriver.Chrome(chrome_options=chrome_options)\n",
    "driver.get('https://tineye.com')"
   ]
  },
  {
   "cell_type": "code",
   "execution_count": 6,
   "metadata": {
    "collapsed": true
   },
   "outputs": [],
   "source": [
    "def comment(submission, matches, postList, submissionID, logMessage):\n",
    "    print(\"hi i'm in the comment function now\")\n",
    "    try:\n",
    "        submission.reply(\"There are \" + \n",
    "               str(matches) + \" pictures of this pet on the internet. (unless your pet is internet famous b/c in that case\" +\n",
    "                        \" please introduce me to them ;) )\")\n",
    "        postList.append(submissionID)\n",
    "        logwrite(logMessage)\n",
    "        print(\"successful!\")\n",
    "    except APIException as err:\n",
    "        time.sleep(360) #last time, API throttled by requiring a wait-time of 6 minutes\n",
    "        logwrite(\"Hey, you got an APIException! Recursively calling the comment function\")\n",
    "        print(\"uh oh, recursion is happening\")\n",
    "        comment(submission, matches, postList, submissionID, \"You got a APIException but you commented on this post!\")"
   ]
  },
  {
   "cell_type": "code",
   "execution_count": 10,
   "metadata": {
    "collapsed": true
   },
   "outputs": [],
   "source": [
    "def reverseSearch(subredditName):\n",
    "    createLogFile()\n",
    "    r = praw.Reddit('bot1')\n",
    "    subreddit=r.subreddit(subredditName)\n",
    "    urls = []\n",
    "    logwrite(\"Crawling through \" + subredditName)\n",
    "    \n",
    "    for submission in subreddit.hot(limit=10):\n",
    "        req = requests.get(submission.url)\n",
    "        if 'image' in req.headers['content-type']: #and submission.author.name == 'uniquepic-bot': #checks to make sure it's an image\n",
    "            urls.append((submission.id, submission.url))\n",
    "#             print(\"got the right post!\")\n",
    "            \n",
    "    logwrite(\"Checked 10 submissions. There are \" + str(len(urls)) + \" images\")\n",
    "#     fName = 'responded_posts'+subredditName+'.txt' #file contains ID's of submission posts that the bot has already commented on\n",
    "    responded_posts = []\n",
    "#     if os.path.isfile(fName):\n",
    "#         with open(fName) as f:\n",
    "#             content = f.readlines()\n",
    "#         responded_posts = [line.strip() for line in content]\n",
    "    \n",
    "    for url in urls:\n",
    "        print(url)\n",
    "        url_box = driver.find_element_by_id('url_box')\n",
    "        url_box.send_keys(url[1])\n",
    "        url_box.submit()\n",
    "        try:\n",
    "            element_present = EC.presence_of_element_located((By.TAG_NAME, 'h2'))\n",
    "            WebDriverWait(driver, 5).until(element_present) #waits 5 seconds to throw TimeoutException unless it finds element to return \n",
    "            results = driver.find_element_by_tag_name('h2') #result usually looks like \"# Results\"\n",
    "            print(results.text.lower())\n",
    "            if 'result' not in results.text.lower():\n",
    "                print(\"hi\")\n",
    "                logwrite('Used up tineye searching limits. Quitting program')\n",
    "                sys.exit()\n",
    "            matches = int(results.text.split(' ')[0])\n",
    "            logwrite('got a match - here it is: ' + str(matches))\n",
    "            print('got a match - here it is:' + str(matches))\n",
    "            if matches > 4 and url[0] not in responded_posts:\n",
    "                print(\"this isn't unique!\")\n",
    "                logwrite(\"Found non-unique picture! There are \" + str(matches) + \" matches\")\n",
    "#                 submission = r.submission(id=url[0])\n",
    "#                 comment(submission, matches, responded_posts, url[0], \"A comment has been posted!\")\n",
    "        except TimeoutException as err:\n",
    "            print(\"uh oh, TimeoutException\")\n",
    "            logwrite(err)\n",
    "        except NoSuchElementException as err:\n",
    "            print(\"uh oh, NoSuchElementException\")\n",
    "            logwrite(err)\n",
    "        \n",
    "        time.sleep(3)\n",
    "        \n",
    "#     with open(fName, 'w') as f:\n",
    "#         print('about to write in a file!')\n",
    "#         for post in responded_posts:\n",
    "#             f.write(post + '\\n')\n",
    "    print('all done')"
   ]
  },
  {
   "cell_type": "code",
   "execution_count": 11,
   "metadata": {},
   "outputs": [
    {
     "name": "stdout",
     "output_type": "stream",
     "text": [
      "('6uh397', 'http://i.imgur.com/mTa6K7T.jpg')\n",
      "12 results\n",
      "got a match - here it is:12\n",
      "this isn't unique!\n",
      "('6uhpp1', 'http://i.imgur.com/A4gsNSt.jpg')\n",
      "you've reached your daily search limit.\n",
      "hi\n"
     ]
    },
    {
     "ename": "NameError",
     "evalue": "name 'sys' is not defined",
     "output_type": "error",
     "traceback": [
      "\u001b[1;31m---------------------------------------------------------------------------\u001b[0m",
      "\u001b[1;31mNameError\u001b[0m                                 Traceback (most recent call last)",
      "\u001b[1;32m<ipython-input-11-0081ae29cb7e>\u001b[0m in \u001b[0;36m<module>\u001b[1;34m()\u001b[0m\n\u001b[1;32m----> 1\u001b[1;33m \u001b[0mreverseSearch\u001b[0m\u001b[1;33m(\u001b[0m\u001b[1;34m\"dogpictures\"\u001b[0m\u001b[1;33m)\u001b[0m \u001b[1;31m#tried catpics, delightfullychubby, catpictures, dogpictures\u001b[0m\u001b[1;33m\u001b[0m\u001b[0m\n\u001b[0m",
      "\u001b[1;32m<ipython-input-10-81b133b0a461>\u001b[0m in \u001b[0;36mreverseSearch\u001b[1;34m(subredditName)\u001b[0m\n\u001b[0;32m     33\u001b[0m                 \u001b[0mprint\u001b[0m\u001b[1;33m(\u001b[0m\u001b[1;34m\"hi\"\u001b[0m\u001b[1;33m)\u001b[0m\u001b[1;33m\u001b[0m\u001b[0m\n\u001b[0;32m     34\u001b[0m                 \u001b[0mlogwrite\u001b[0m\u001b[1;33m(\u001b[0m\u001b[1;34m'Used up tineye searching limits. Quitting program'\u001b[0m\u001b[1;33m)\u001b[0m\u001b[1;33m\u001b[0m\u001b[0m\n\u001b[1;32m---> 35\u001b[1;33m                 \u001b[0msys\u001b[0m\u001b[1;33m.\u001b[0m\u001b[0mexit\u001b[0m\u001b[1;33m(\u001b[0m\u001b[1;33m)\u001b[0m\u001b[1;33m\u001b[0m\u001b[0m\n\u001b[0m\u001b[0;32m     36\u001b[0m             \u001b[0mmatches\u001b[0m \u001b[1;33m=\u001b[0m \u001b[0mint\u001b[0m\u001b[1;33m(\u001b[0m\u001b[0mresults\u001b[0m\u001b[1;33m.\u001b[0m\u001b[0mtext\u001b[0m\u001b[1;33m.\u001b[0m\u001b[0msplit\u001b[0m\u001b[1;33m(\u001b[0m\u001b[1;34m' '\u001b[0m\u001b[1;33m)\u001b[0m\u001b[1;33m[\u001b[0m\u001b[1;36m0\u001b[0m\u001b[1;33m]\u001b[0m\u001b[1;33m)\u001b[0m\u001b[1;33m\u001b[0m\u001b[0m\n\u001b[0;32m     37\u001b[0m             \u001b[0mlogwrite\u001b[0m\u001b[1;33m(\u001b[0m\u001b[1;34m'got a match - here it is: '\u001b[0m \u001b[1;33m+\u001b[0m \u001b[0mstr\u001b[0m\u001b[1;33m(\u001b[0m\u001b[0mmatches\u001b[0m\u001b[1;33m)\u001b[0m\u001b[1;33m)\u001b[0m\u001b[1;33m\u001b[0m\u001b[0m\n",
      "\u001b[1;31mNameError\u001b[0m: name 'sys' is not defined"
     ]
    }
   ],
   "source": [
    "reverseSearch(\"dogpictures\") #tried catpics, delightfullychubby, catpictures, dogpictures"
   ]
  },
  {
   "cell_type": "markdown",
   "metadata": {},
   "source": [
    "Old things that I was testing (IGNORE EVERYTHING BELOW)"
   ]
  },
  {
   "cell_type": "code",
   "execution_count": 113,
   "metadata": {
    "collapsed": true
   },
   "outputs": [],
   "source": [
    "subreddit = r.subreddit(\"aww\")\n",
    "urls = []\n",
    "for submission in subreddit.hot(limit=20):\n",
    "    ending = submission.url.split('.')[-1]\n",
    "    if ending == 'jpg' or ending == 'png':\n",
    "        urls.append(submission.url)"
   ]
  },
  {
   "cell_type": "code",
   "execution_count": 114,
   "metadata": {},
   "outputs": [
    {
     "data": {
      "text/plain": [
       "[('6u6xc2',\n",
       "  'https://www.royalcanin.com/~/media/Royal-Canin/Product-Categories/cat-senior-landing-hero.ashx')]"
      ]
     },
     "execution_count": 114,
     "metadata": {},
     "output_type": "execute_result"
    }
   ],
   "source": [
    "urls"
   ]
  },
  {
   "cell_type": "code",
   "execution_count": 74,
   "metadata": {
    "collapsed": true
   },
   "outputs": [],
   "source": [
    "import urllib.request as urllib"
   ]
  },
  {
   "cell_type": "code",
   "execution_count": 75,
   "metadata": {
    "collapsed": true
   },
   "outputs": [],
   "source": [
    "response = urllib.urlopen('https://images.google.com/searchbyimage?image_url=' + urls[0])\n",
    "html = response.read()"
   ]
  },
  {
   "cell_type": "code",
   "execution_count": 60,
   "metadata": {
    "collapsed": true
   },
   "outputs": [],
   "source": [
    "from html.parser import HTMLParser"
   ]
  },
  {
   "cell_type": "code",
   "execution_count": 80,
   "metadata": {
    "collapsed": true
   },
   "outputs": [
    {
     "name": "stdout",
     "output_type": "stream",
     "text": [
      "Encountered some data  : b'\n",
      "Encountered a start tag: html\n",
      "Encountered a start tag: head\n",
      "Encountered a start tag: meta\n",
      "Encountered a start tag: meta\n",
      "Encountered a start tag: meta\n",
      "Encountered a start tag: meta\n",
      "Encountered a start tag: title\n",
      "Encountered some data  : Google\n",
      "Encountered an end tag : title\n",
      "Encountered a start tag: script\n",
      "Encountered some data  : (function(){window.google={kEI:\\'BciUWYiVFeHujwSC44_gDA\\',kEXPI:\\'1353382,1354276,1354401,1354443,1354514,1354625,1354750,1354946,1354987,3700307,3700347,3700442,4029815,4031109,4043492,4045841,4048347,4061945,4063220,4072775,4076999,4078430,4081039,4081164,4094544,4095910,4097153,4097470,4097922,4097929,4097951,4098733,4098740,4098752,4102238,4102827,4103475,4103861,4104258,4105115,4105128,4107555,4109316,4109490,4110656,4111276,4113148,4113217,4113275,4115290,4115338,4115697,4116724,4116731,4116926,4116927,4116935,4117980,4118103,4118227,4118438,4118626,4118798,4119025,4119032,4119034,4119036,4119239,4119272,4119656,4120293,4120294,4120413,4121035,4121175,4121695,4122025,4123379,4123462,4123641,4123984,4124644,4124948,4125161,4125331,4125478,4126001,4126045,4126136,4126366,4126611,4126875,4126960,4126964,10200083,16200026,19003303,19003304,19003305,19003345\\',authuser:0,kscs:\\'c9c918f0_24\\',u:\\'c9c918f0\\'};google.kHL=\\'en\\';})();(function(){google.lc=[];google.li=0;google.getEI=function(a){for(var b;a&&(!a.getAttribute||!(b=a.getAttribute(\"eid\")));)a=a.parentNode;return b||google.kEI};google.getLEI=function(a){for(var b=null;a&&(!a.getAttribute||!(b=a.getAttribute(\"leid\")));)a=a.parentNode;return b};google.https=function(){return\"https:\"==window.location.protocol};google.ml=function(){return null};google.wl=function(a,b){try{google.ml(Error(a),!1,b)}catch(c){}};google.time=function(){return(new Date).getTime()};google.log=function(a,b,c,d,g){if(a=google.logUrl(a,b,c,d,g)){b=new Image;var e=google.lc,f=google.li;e[f]=b;b.onerror=b.onload=b.onabort=function(){delete e[f]};google.vel&&google.vel.lu&&google.vel.lu(a);b.src=a;google.li=f+1}};google.logUrl=function(a,b,c,d,g){var e=\"\",f=google.ls||\"\";c||-1!=b.search(\"&ei=\")||(e=\"&ei=\"+google.getEI(d),-1==b.search(\"&lei=\")&&(d=google.getLEI(d))&&(e+=\"&lei=\"+d));d=\"\";!c&&google.cached&&-1==b.search(\"&cached=\")&&(d=\"&cached=\"+google.cached);a=c||\"/\"+(g||\"gen_204\")+\"?atyp=i&ct=\"+a+\"&cad=\"+b+e+f+\"&zx=\"+google.time()+d;/^http:/i.test(a)&&google.https()&&(google.ml(Error(\"a\"),!1,{src:a,glmm:1}),a=\"\");return a};google.y={};google.x=function(a,b){if(a)var c=a.id;else{do c=Math.random();while(google.y[c])}google.y[c]=[a,b];return!1};google.lq=[];google.load=function(a,b,c){google.lq.push([[a],b,c])};google.loadAll=function(a,b){google.lq.push([a,b])};}).call(this);google.f={};var a=window.location,b=a.href.indexOf(\"#\");if(0<=b){var c=a.href.substring(b+1);/(^|&)q=/.test(c)&&-1==c.indexOf(\"#\")&&a.replace(\"/search?\"+c.replace(/(^|&)fp=[^&]*/g,\"\")+\"&cad=h\")};\n",
      "Encountered an end tag : script\n",
      "Encountered a start tag: style\n",
      "Encountered some data  : #gbar,#guser{font-size:13px;padding-top:1px !important;}#gbar{height:22px}#guser{padding-bottom:7px !important;text-align:right}.gbh,.gbd{border-top:1px solid #c9d7f1;font-size:1px}.gbh{height:0;position:absolute;top:24px;width:100%}@media all{.gb1{height:22px;margin-right:.5em;vertical-align:top}#gbar{float:left}}a.gb1,a.gb4{text-decoration:underline !important}a.gb1,a.gb4{color:#00c !important}.gbi .gb4{color:#dd8e27 !important}.gbf .gb4{color:#900 !important}\\n\n",
      "Encountered an end tag : style\n",
      "Encountered a start tag: style\n",
      "Encountered some data  : body,td,a,p,.h{font-family:arial,sans-serif}body{margin:0;overflow-y:scroll}#gog{padding:3px 8px 0}td{line-height:.8em}.gac_m td{line-height:17px}form{margin-bottom:20px}.h{color:#36c}.q{color:#00c}.ts td{padding:0}.ts{border-collapse:collapse}em{font-weight:bold;font-style:normal}.lst{height:25px;width:496px}.gsfi,.lst{font:18px arial,sans-serif}.gsfs{font:17px arial,sans-serif}.ds{display:inline-box;display:inline-block;margin:3px 0 4px;margin-left:4px}input{font-family:inherit}a.gb1,a.gb2,a.gb3,a.gb4{color:#11c !important}body{background:#fff;color:black}a{color:#11c;text-decoration:none}a:hover,a:active{text-decoration:underline}.fl a{color:#36c}a:visited{color:#551a8b}a.gb1,a.gb4{text-decoration:underline}a.gb3:hover{text-decoration:none}#ghead a.gb2:hover{color:#fff !important}.sblc{padding-top:5px}.sblc a{display:block;margin:2px 0;margin-left:13px;font-size:11px}.lsbb{background:#eee;border:solid 1px;border-color:#ccc #999 #999 #ccc;height:30px}.lsbb{display:block}.ftl,#fll a{display:inline-block;margin:0 12px}.lsb{background:url(/images/nav_logo229.png) 0 -261px repeat-x;border:none;color:#000;cursor:pointer;height:30px;margin:0;outline:0;font:15px arial,sans-serif;vertical-align:top}.lsb:active{background:#ccc}.lst:focus{outline:none}\n",
      "Encountered an end tag : style\n",
      "Encountered a start tag: script\n",
      "Encountered an end tag : script\n",
      "Encountered a start tag: link\n",
      "Encountered an end tag : head\n",
      "Encountered a start tag: body\n",
      "Encountered a start tag: script\n",
      "Encountered some data  : (function(){var src=\\'/images/nav_logo229.png\\';var iesg=false;document.body.onload = function(){window.n && window.n();if (document.images){new Image().src=src;}\\nif (!iesg){document.f&&document.f.q.focus();document.gbqf&&document.gbqf.q.focus();}\\n}\\n})();\n",
      "Encountered an end tag : script\n",
      "Encountered a start tag: div\n",
      "Encountered some data  :  \n",
      "Encountered a start tag: div\n",
      "Encountered a start tag: nobr\n",
      "Encountered a start tag: b\n",
      "Encountered some data  : Search\n",
      "Encountered an end tag : b\n",
      "Encountered some data  :  \n",
      "Encountered a start tag: a\n",
      "Encountered some data  : Images\n",
      "Encountered an end tag : a\n",
      "Encountered some data  :  \n",
      "Encountered a start tag: a\n",
      "Encountered some data  : Maps\n",
      "Encountered an end tag : a\n",
      "Encountered some data  :  \n",
      "Encountered a start tag: a\n",
      "Encountered some data  : Play\n",
      "Encountered an end tag : a\n",
      "Encountered some data  :  \n",
      "Encountered a start tag: a\n",
      "Encountered some data  : YouTube\n",
      "Encountered an end tag : a\n",
      "Encountered some data  :  \n",
      "Encountered a start tag: a\n",
      "Encountered some data  : News\n",
      "Encountered an end tag : a\n",
      "Encountered some data  :  \n",
      "Encountered a start tag: a\n",
      "Encountered some data  : Gmail\n",
      "Encountered an end tag : a\n",
      "Encountered some data  :  \n",
      "Encountered a start tag: a\n",
      "Encountered some data  : Drive\n",
      "Encountered an end tag : a\n",
      "Encountered some data  :  \n",
      "Encountered a start tag: a\n",
      "Encountered a start tag: u\n",
      "Encountered some data  : More\n",
      "Encountered an end tag : u\n",
      "Encountered some data  :  »\n",
      "Encountered an end tag : a\n",
      "Encountered an end tag : nobr\n",
      "Encountered an end tag : div\n",
      "Encountered a start tag: div\n",
      "Encountered a start tag: nobr\n",
      "Encountered a start tag: span\n",
      "Encountered an end tag : span\n",
      "Encountered a start tag: span\n",
      "Encountered an end tag : span\n",
      "Encountered a start tag: span\n",
      "Encountered an end tag : span\n",
      "Encountered a start tag: a\n",
      "Encountered some data  : Web History\n",
      "Encountered an end tag : a\n",
      "Encountered some data  :  | \n",
      "Encountered a start tag: a\n",
      "Encountered some data  : Settings\n",
      "Encountered an end tag : a\n",
      "Encountered some data  :  | \n",
      "Encountered a start tag: a\n",
      "Encountered some data  : Sign in\n",
      "Encountered an end tag : a\n",
      "Encountered an end tag : nobr\n",
      "Encountered an end tag : div\n",
      "Encountered a start tag: div\n",
      "Encountered an end tag : div\n",
      "Encountered a start tag: div\n",
      "Encountered an end tag : div\n",
      "Encountered some data  :  \n",
      "Encountered an end tag : div\n",
      "Encountered a start tag: center\n",
      "Encountered a start tag: br\n",
      "Encountered a start tag: div\n",
      "Encountered a start tag: img\n",
      "Encountered a start tag: br\n",
      "Encountered a start tag: br\n",
      "Encountered an end tag : div\n",
      "Encountered a start tag: form\n",
      "Encountered a start tag: table\n",
      "Encountered a start tag: tr\n",
      "Encountered a start tag: td\n",
      "Encountered some data  :  \n",
      "Encountered an end tag : td\n",
      "Encountered a start tag: td\n",
      "Encountered a start tag: input\n",
      "Encountered a start tag: input\n",
      "Encountered a start tag: input\n",
      "Encountered a start tag: input\n",
      "Encountered a start tag: input\n",
      "Encountered a start tag: div\n",
      "Encountered a start tag: input\n",
      "Encountered an end tag : div\n",
      "Encountered a start tag: br\n",
      "Encountered a start tag: span\n",
      "Encountered a start tag: span\n",
      "Encountered a start tag: input\n",
      "Encountered an end tag : span\n",
      "Encountered an end tag : span\n",
      "Encountered a start tag: span\n",
      "Encountered a start tag: span\n",
      "Encountered a start tag: input\n",
      "Encountered an end tag : span\n",
      "Encountered an end tag : span\n",
      "Encountered an end tag : td\n",
      "Encountered a start tag: td\n",
      "Encountered a start tag: a\n",
      "Encountered some data  : Advanced search\n",
      "Encountered an end tag : a\n",
      "Encountered a start tag: a\n",
      "Encountered some data  : Language tools\n",
      "Encountered an end tag : a\n",
      "Encountered an end tag : td\n",
      "Encountered an end tag : tr\n",
      "Encountered an end tag : table\n",
      "Encountered a start tag: input\n",
      "Encountered an end tag : form\n",
      "Encountered a start tag: div\n",
      "Encountered an end tag : div\n",
      "Encountered a start tag: div\n",
      "Encountered a start tag: br\n",
      "Encountered an end tag : div\n",
      "Encountered a start tag: span\n",
      "Encountered a start tag: div\n",
      "Encountered a start tag: div\n",
      "Encountered a start tag: a\n",
      "Encountered some data  : Advertising\\xa0Programs\n",
      "Encountered an end tag : a\n",
      "Encountered a start tag: a\n",
      "Encountered some data  : Business Solutions\n",
      "Encountered an end tag : a\n",
      "Encountered a start tag: a\n",
      "Encountered some data  : +Google\n",
      "Encountered an end tag : a\n",
      "Encountered a start tag: a\n",
      "Encountered some data  : About Google\n",
      "Encountered an end tag : a\n",
      "Encountered an end tag : div\n",
      "Encountered an end tag : div\n",
      "Encountered a start tag: p\n",
      "Encountered some data  : © 2017 - \n",
      "Encountered a start tag: a\n",
      "Encountered some data  : Privacy\n",
      "Encountered an end tag : a\n",
      "Encountered some data  :  - \n",
      "Encountered a start tag: a\n",
      "Encountered some data  : Terms\n",
      "Encountered an end tag : a\n",
      "Encountered an end tag : p\n",
      "Encountered an end tag : span\n",
      "Encountered an end tag : center\n",
      "Encountered a start tag: script\n",
      "Encountered some data  : (function(){window.google.cdo={height:0,width:0};(function(){var a=window.innerWidth,b=window.innerHeight;if(!a||!b){var c=window.document,d=\"CSS1Compat\"==c.compatMode?c.documentElement:c.body;a=d.clientWidth;b=d.clientHeight}a&&b&&(a!=google.cdo.width||b!=google.cdo.height)&&google.log(\"\",\"\",\"/client_204?&atyp=i&biw=\"+a+\"&bih=\"+b+\"&ei=\"+google.kEI);}).call(this);})();\n",
      "Encountered an end tag : script\n",
      "Encountered a start tag: div\n",
      "Encountered an end tag : div\n",
      "Encountered a start tag: div\n",
      "Encountered a start tag: script\n",
      "Encountered some data  : (function(){function c(b){window.setTimeout(function(){var a=document.createElement(\"script\");a.src=b;document.getElementById(\"xjsd\").appendChild(a)},0)}google.dljp=function(b,a){google.xjsu=b;c(a)};google.dlj=c;}).call(this);(function(){window.google.xjsrm=[];})();if(google.y)google.y.first=[];if(!google.xjs){window._=window._||{};window._DumpException=window._._DumpException=function(e){throw e};if(google.timers&&google.timers.load.t){google.tick(\\'load\\', {gen204: \\'xjsls\\', clearcut: 31});}google.dljp(\\'/xjs/_/js/k\\\\x3dxjs.hp.en_US.AUtvI6WqvJI.O/m\\\\x3dsb_he,d/am\\\\x3dABg/rt\\\\x3dj/d\\\\x3d1/t\\\\x3dzcms/rs\\\\x3dACT90oF_22nErDelf_iCyoQFIvFXwlf4-g\\',\\'/xjs/_/js/k\\\\x3dxjs.hp.en_US.AUtvI6WqvJI.O/m\\\\x3dsb_he,d/am\\\\x3dABg/rt\\\\x3dj/d\\\\x3d1/t\\\\x3dzcms/rs\\\\x3dACT90oF_22nErDelf_iCyoQFIvFXwlf4-g\\');google.xjs=1;}google.pmc={\"sb_he\":{\"agen\":false,\"cgen\":false,\"client\":\"heirloom-hp\",\"dh\":true,\"dhqt\":true,\"ds\":\"\",\"fl\":true,\"host\":\"google.com\",\"isbh\":28,\"jam\":0,\"jsonp\":true,\"msgs\":{\"cibl\":\"Clear Search\",\"dym\":\"Did you mean:\",\"lcky\":\"I\\\\u0026#39;m Feeling Lucky\",\"lml\":\"Learn more\",\"oskt\":\"Input tools\",\"psrc\":\"This search was removed from your \\\\u003Ca href=\\\\\"/history\\\\\"\\\\u003EWeb History\\\\u003C/a\\\\u003E\",\"psrl\":\"Remove\",\"sbit\":\"Search by image\",\"srch\":\"Google Search\"},\"nds\":true,\"ovr\":{},\"pq\":\"\",\"refpd\":true,\"rfs\":[],\"sbpl\":24,\"sbpr\":24,\"scd\":10,\"sce\":5,\"stok\":\"tHPl45vAdpWNtnL6JgAxpC1tRJo\"},\"d\":{},\"aWiv7g\":{},\"YFCs/g\":{}};google.y.first.push(function(){if(google.med){google.med(\\'init\\');google.initHistory();google.med(\\'history\\');}});if(google.j&&google.j.en&&google.j.xi){window.setTimeout(google.j.xi,0);}\\n\n",
      "Encountered an end tag : script\n",
      "Encountered an end tag : div\n",
      "Encountered an end tag : body\n",
      "Encountered an end tag : html\n",
      "Encountered some data  : '\n"
     ]
    }
   ],
   "source": [
    "class MyHTMLParser(HTMLParser):\n",
    "    def handle_starttag(self, tag, attrs):\n",
    "        print (\"Encountered a start tag:\", tag)\n",
    "\n",
    "    def handle_endtag(self, tag):\n",
    "        print (\"Encountered an end tag :\", tag)\n",
    "\n",
    "    def handle_data(self, data):\n",
    "        print (\"Encountered some data  :\", data)\n",
    "\n",
    "# instantiate the parser and fed it some HTML\n",
    "parser = MyHTMLParser()\n",
    "parser.feed(str(html))"
   ]
  },
  {
   "cell_type": "code",
   "execution_count": 124,
   "metadata": {
    "collapsed": true
   },
   "outputs": [],
   "source": [
    "testing = ['https://i.redd.it/q5foa3h2m4gz.jpg', 'https://gfycat.com/AcidicFluidAgama', 'https://i.imgur.com/jxOIJv4.gifv', 'https://i.redd.it/knbs8h5s43gz.jpg']"
   ]
  },
  {
   "cell_type": "code",
   "execution_count": 148,
   "metadata": {
    "collapsed": true
   },
   "outputs": [],
   "source": [
    "import time\n",
    "import requests"
   ]
  },
  {
   "cell_type": "code",
   "execution_count": 152,
   "metadata": {},
   "outputs": [
    {
     "name": "stdout",
     "output_type": "stream",
     "text": [
      "64\n",
      "0\n"
     ]
    }
   ],
   "source": [
    "driver = webdriver.Chrome()\n",
    "driver.get(\"https://tineye.com/\")\n",
    "for test in testing:\n",
    "    r = requests.get(test)\n",
    "    if 'image' in r.headers['content-type']:\n",
    "        url_box = driver.find_element_by_id('url_box')\n",
    "        url_box.send_keys(test)\n",
    "        url_box.submit()\n",
    "        try:\n",
    "            element_present = EC.presence_of_element_located((By.TAG_NAME, 'h2'))\n",
    "            WebDriverWait(driver, 5).until(element_present)\n",
    "            results = driver.find_element_by_tag_name('h2')\n",
    "            matches = int(results.text.split(' ')[0])\n",
    "            print(matches)\n",
    "        except TimeoutException as err:\n",
    "            print(\"It took too long to load!\")\n",
    "        except NoSuchElementException as err:\n",
    "            print(\"No such element - sorry!\")\n",
    "        except StaleElementReferenceException as err:\n",
    "            print(\"wtf\")\n",
    "\n",
    "        \n",
    "#another problem is they're automatically selecting a picture of the gif for some reason??\n",
    "\n"
   ]
  },
  {
   "cell_type": "code",
   "execution_count": 154,
   "metadata": {
    "collapsed": true
   },
   "outputs": [],
   "source": [
    "import os"
   ]
  },
  {
   "cell_type": "code",
   "execution_count": 155,
   "metadata": {
    "collapsed": true
   },
   "outputs": [],
   "source": [
    "if os.path.isfile('testing.txt'):\n",
    "    with open('testing.txt') as f:\n",
    "        content = f.readlines()\n",
    "    responded_posts = [line.strip() for line in content]\n"
   ]
  },
  {
   "cell_type": "code",
   "execution_count": 156,
   "metadata": {},
   "outputs": [
    {
     "data": {
      "text/plain": [
       "['123456', '234567', '345678', '456789']"
      ]
     },
     "execution_count": 156,
     "metadata": {},
     "output_type": "execute_result"
    }
   ],
   "source": [
    "responded_posts"
   ]
  },
  {
   "cell_type": "code",
   "execution_count": 158,
   "metadata": {
    "collapsed": true
   },
   "outputs": [],
   "source": [
    "responded_posts.append('273845')\n",
    "responded_posts.append('945876')\n",
    "responded_posts.append('2039480')"
   ]
  },
  {
   "cell_type": "code",
   "execution_count": 159,
   "metadata": {
    "collapsed": true
   },
   "outputs": [],
   "source": [
    "with open('testing.txt', 'w') as f:\n",
    "    for post in responded_posts:\n",
    "        f.write(post + '\\n')"
   ]
  },
  {
   "cell_type": "code",
   "execution_count": 163,
   "metadata": {
    "collapsed": true
   },
   "outputs": [],
   "source": [
    "chrome_options = Options()\n",
    "driver = webdriver.Chrome(chrome_options=chrome_options)\n",
    "driver.get('https://tineye.com')"
   ]
  }
 ],
 "metadata": {
  "kernelspec": {
   "display_name": "Python 3",
   "language": "python",
   "name": "python3"
  },
  "language_info": {
   "codemirror_mode": {
    "name": "ipython",
    "version": 3
   },
   "file_extension": ".py",
   "mimetype": "text/x-python",
   "name": "python",
   "nbconvert_exporter": "python",
   "pygments_lexer": "ipython3",
   "version": "3.6.1"
  }
 },
 "nbformat": 4,
 "nbformat_minor": 2
}
